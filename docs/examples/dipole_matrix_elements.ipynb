{
 "cells": [
  {
   "cell_type": "markdown",
   "metadata": {},
   "source": [
    "# Calculating dipole matrix elements"
   ]
  },
  {
   "cell_type": "code",
   "execution_count": 1,
   "metadata": {},
   "outputs": [],
   "source": [
    "from ryd_numerov.rydberg import RydbergState"
   ]
  },
  {
   "cell_type": "code",
   "execution_count": null,
   "metadata": {},
   "outputs": [
    {
     "name": "stdout",
     "output_type": "stream",
     "text": [
      "Numerov radial matrix element: 137.7830757530064 bohr\n",
      "Numerov angular matrix element: 0.4898979485566356\n",
      "Numerov dipole matrix element: 67.49964615722135 bohr * elementary_charge\n"
     ]
    }
   ],
   "source": [
    "state_i = RydbergState(\"Rb\", 60, 2, j_tot=3 / 2, m=1 / 2)\n",
    "state_f = RydbergState(\"Rb\", 60, 3, j_tot=5 / 2, m=1 / 2)\n",
    "\n",
    "radial = state_i.calc_radial_matrix_element(state_f, k_radial=1)\n",
    "angular = state_i.calc_angular_matrix_element(state_f, \"ELECTRIC\", k_angular=1, q=0)\n",
    "dipole = state_i.calc_matrix_element(state_f, \"ELECTRIC\", k_radial=1, k_angular=1, q=0)\n",
    "\n",
    "print(f\"Numerov radial matrix element: {radial}\")\n",
    "print(f\"Numerov angular matrix element: {angular}\")\n",
    "print(f\"Numerov dipole matrix element: {dipole}\")\n",
    "assert dipole.magnitude == (radial * angular).magnitude"
   ]
  }
 ],
 "metadata": {
  "kernelspec": {
   "display_name": ".venv",
   "language": "python",
   "name": "python3"
  },
  "language_info": {
   "codemirror_mode": {
    "name": "ipython",
    "version": 3
   },
   "file_extension": ".py",
   "mimetype": "text/x-python",
   "name": "python",
   "nbconvert_exporter": "python",
   "pygments_lexer": "ipython3",
   "version": "3.13.1"
  }
 },
 "nbformat": 4,
 "nbformat_minor": 2
}
